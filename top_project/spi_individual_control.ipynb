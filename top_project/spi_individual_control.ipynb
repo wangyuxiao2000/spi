{
 "cells": [
  {
   "cell_type": "code",
   "execution_count": null,
   "id": "51a44769",
   "metadata": {},
   "outputs": [],
   "source": [
    "import time\n",
    "import os\n",
    "import numpy as np\n",
    "from pynq import allocate\n",
    "from pynq import MMIO\n",
    "from pynq import Overlay"
   ]
  },
  {
   "cell_type": "code",
   "execution_count": null,
   "id": "e6e7d93b",
   "metadata": {},
   "outputs": [],
   "source": [
    "os.getcwd()\n",
    "ol = Overlay(\"spi_individual_bmi160.bit\")"
   ]
  },
  {
   "cell_type": "code",
   "execution_count": null,
   "id": "96b8ba6c",
   "metadata": {},
   "outputs": [],
   "source": [
    "# base addr\n",
    "SPI_CONTROL = 0x40000000\n",
    "\n",
    "# regs\n",
    "soft_rst_n_reg    = 0x10\n",
    "chip_reg          = 0x18\n",
    "cpol_reg          = 0x20\n",
    "cpha_reg          = 0x28\n",
    "w_r_mode_reg      = 0x30\n",
    "wr_width_reg      = 0x38\n",
    "wr_data_reg       = 0x40\n",
    "rd_width_reg      = 0x48\n",
    "rd_target_num_reg = 0x50\n",
    "wr_done_reg       = 0x58\n",
    "rd_done_reg       = 0x68\n",
    "rd_data_reg       = 0x78\n",
    "\n",
    "# SPI从机列表(rd_mode=0-只读模式;rd_mode=1-指令控读模式)\n",
    "chip_settings = {\n",
    "    \"MAX6675\": {\"chip_num\":0, \"cpol\":0, \"cpha\":0, \"wr_width\":0, \"rd_mode\":0, \"rd_comd_width\":0, \"rd_data_width\":16},\n",
    "    \"BMI160\":  {\"chip_num\":1, \"cpol\":1, \"cpha\":1, \"wr_width\":16, \"rd_mode\":1, \"rd_comd_width\":8, \"rd_data_width\":8},\n",
    "}"
   ]
  },
  {
   "cell_type": "code",
   "execution_count": null,
   "id": "1cbc92c6",
   "metadata": {},
   "outputs": [],
   "source": [
    "# 写寄存器\n",
    "def write_reg(base_addr, offset, val):\n",
    "    mmio = MMIO(base_addr, 64*1024)   # 创建一个名为mmio的MMIO对象,可用地址空间为64KB(与VIVADO设计中的地址分配相吻合)\n",
    "    mmio.write(offset, val)           # 向地址为base_addr+offset的寄存器写入val\n",
    "\n",
    "\n",
    "# 读寄存器\n",
    "def read_reg(base_addr, offset):  \n",
    "    mmio = MMIO(base_addr, 64*1024)\n",
    "    read_val = mmio.read(offset)\n",
    "    return read_val\n",
    "\n",
    "\n",
    "# 写SPI\n",
    "def spi_write(chip, wr_data):\n",
    "    if chip in chip_settings:\n",
    "        chip_num = chip_settings[chip][\"chip_num\"]\n",
    "        cpol = chip_settings[chip][\"cpol\"]\n",
    "        cpha = chip_settings[chip][\"cpha\"]\n",
    "        wr_width = chip_settings[chip][\"wr_width\"]\n",
    "    write_reg(SPI_CONTROL, soft_rst_n_reg, 0x0)\n",
    "    write_reg(SPI_CONTROL, chip_reg, chip_num)\n",
    "    write_reg(SPI_CONTROL, cpol_reg, cpol)\n",
    "    write_reg(SPI_CONTROL, cpha_reg, cpha)\n",
    "    write_reg(SPI_CONTROL, w_r_mode_reg, 0x1)\n",
    "    write_reg(SPI_CONTROL, wr_width_reg, wr_width)\n",
    "    write_reg(SPI_CONTROL, wr_data_reg, wr_data)\n",
    "    write_reg(SPI_CONTROL, soft_rst_n_reg, 0x1)\n",
    "    wr_done = read_reg(SPI_CONTROL, wr_done_reg)\n",
    "    while wr_done!=1 :\n",
    "        wr_done = read_reg(SPI_CONTROL, wr_done_reg)\n",
    "    print(\"Successfully write.\")\n",
    "\n",
    "\n",
    "# 读SPI\n",
    "def spi_read(chip, rd_command):\n",
    "    if chip in chip_settings:\n",
    "        chip_num = chip_settings[chip][\"chip_num\"]\n",
    "        cpol = chip_settings[chip][\"cpol\"]\n",
    "        cpha = chip_settings[chip][\"cpha\"]\n",
    "        rd_mode = chip_settings[chip][\"rd_mode\"]\n",
    "        rd_comd_width = chip_settings[chip][\"rd_comd_width\"]\n",
    "        rd_data_width = chip_settings[chip][\"rd_data_width\"]\n",
    "    if rd_mode==0 :\n",
    "        write_reg(SPI_CONTROL, soft_rst_n_reg, 0x0)\n",
    "        write_reg(SPI_CONTROL, chip_reg, chip_num)\n",
    "        write_reg(SPI_CONTROL, cpol_reg, cpol)\n",
    "        write_reg(SPI_CONTROL, cpha_reg, cpha)\n",
    "        write_reg(SPI_CONTROL, w_r_mode_reg, 0x0)\n",
    "        write_reg(SPI_CONTROL, rd_width_reg, rd_data_width)\n",
    "        write_reg(SPI_CONTROL, rd_target_num_reg, 0x1)\n",
    "        write_reg(SPI_CONTROL, soft_rst_n_reg, 0x1)\n",
    "    else :\n",
    "        write_reg(SPI_CONTROL, soft_rst_n_reg, 0x0)\n",
    "        write_reg(SPI_CONTROL, chip_reg, chip_num)\n",
    "        write_reg(SPI_CONTROL, cpol_reg, cpol)\n",
    "        write_reg(SPI_CONTROL, cpha_reg, cpha)\n",
    "        write_reg(SPI_CONTROL, w_r_mode_reg, 0x2)\n",
    "        write_reg(SPI_CONTROL, wr_width_reg, rd_comd_width)\n",
    "        write_reg(SPI_CONTROL, wr_data_reg, rd_command)\n",
    "        write_reg(SPI_CONTROL, rd_width_reg, rd_data_width)\n",
    "        write_reg(SPI_CONTROL, rd_target_num_reg, 0x1)\n",
    "        write_reg(SPI_CONTROL, soft_rst_n_reg, 0x1)\n",
    "    rd_done = read_reg(SPI_CONTROL, rd_done_reg)\n",
    "    while rd_done!=1 :\n",
    "        rd_done = read_reg(SPI_CONTROL, rd_done_reg)\n",
    "    rx_data = read_reg(SPI_CONTROL, rd_data_reg)\n",
    "    rx_data_bin = format(rx_data, '032b')[-rd_data_width:]\n",
    "    rx_data = int(rx_data_bin, 2)\n",
    "    print(f\"Successfully read, the result is {rd_data_width}'b{rx_data_bin}.\")\n",
    "    return rx_data"
   ]
  },
  {
   "cell_type": "code",
   "execution_count": null,
   "id": "3e90cc3a",
   "metadata": {},
   "outputs": [],
   "source": [
    "# MAX6675读取\n",
    "rx_data = spi_read(\"MAX6675\", 0x0)\n",
    "temp = ((rx_data>>3)&0xFFF) * (1024/2**12)\n",
    "print(f\"Successfully read, the temperature is {temp}℃.\")"
   ]
  },
  {
   "cell_type": "code",
   "execution_count": null,
   "id": "e474a6eb",
   "metadata": {},
   "outputs": [],
   "source": [
    "# BMI160读取\n",
    "rd_flag = 1\n",
    "rd_addr = 0x00\n",
    "rx_data = spi_read(\"BMI160\", (rd_flag<<7)|(rd_addr&0x7F))\n",
    "print(hex(rx_data).upper())"
   ]
  }
 ],
 "metadata": {
  "kernelspec": {
   "display_name": "Python 3 (ipykernel)",
   "language": "python",
   "name": "python3"
  },
  "language_info": {
   "codemirror_mode": {
    "name": "ipython",
    "version": 3
   },
   "file_extension": ".py",
   "mimetype": "text/x-python",
   "name": "python",
   "nbconvert_exporter": "python",
   "pygments_lexer": "ipython3",
   "version": "3.10.4"
  }
 },
 "nbformat": 4,
 "nbformat_minor": 5
}
